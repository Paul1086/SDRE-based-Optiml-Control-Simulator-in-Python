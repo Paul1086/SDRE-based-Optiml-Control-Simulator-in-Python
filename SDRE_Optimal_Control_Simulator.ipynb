{
 "cells": [
  {
   "cell_type": "markdown",
   "metadata": {},
   "source": [
    "#                                             Importing Python Libraries\n"
   ]
  },
  {
   "cell_type": "code",
   "execution_count": 240,
   "metadata": {},
   "outputs": [],
   "source": [
    "import numpy as np\n",
    "import scipy\n",
    "import slycot\n",
    "import control as ctrl\n",
    "import matplotlib.pyplot as plt"
   ]
  },
  {
   "cell_type": "markdown",
   "metadata": {},
   "source": [
    "# Define Your System (Linear/Nonlinear)\n",
    "## (USER SECTION)\n",
    "\n",
    "This simulator takes system states (A), and system input (B), and the desired output (Z) as the input\n",
    "The user need to tune the tuning parameter Q and R to get the desired output."
   ]
  },
  {
   "cell_type": "code",
   "execution_count": 241,
   "metadata": {},
   "outputs": [],
   "source": [
    "# Dfine your initial states and input\n",
    "## Define the initial states of your system and the initial input of the system\n",
    "X = np.array([[15],[-13],[-12]])\n",
    "u = np.array([0])\n",
    "\n",
    "# Define start time\n",
    "t = 0\n",
    "# Define Final time\n",
    "tf = 10\n",
    "\n",
    "\n",
    "# Define your system here\n",
    "## As an example we have taken a simple system for simplicity. This system has 3 states and its a linear system. Things \n",
    "## will work same as nonlinear systems. You just need to put the equation of your system. \n",
    "## See the published paper for more Clarifications\n",
    "A = np.array([[-1.01887, 0.90506, -0.00215],[0.82225, -1.07741, -0.17555],[0, 0,-1]])\n",
    "\n",
    "# Define input of your system\n",
    "## The states we have taken as an example has only one input. So, the matrix size becomes 3x1, since the state is 3.\n",
    "B = np.array([[0],[0],[0.25]])\n",
    "\n",
    "# Define your tuning parameter Q\n",
    "## Tune your parameter Q here.\n",
    "Q = np.array([[250,0,0],[0,100,0],[0,0,100]])\n",
    "\n",
    "# Define tuning parameter R\n",
    "## Tune your parameter R here.\n",
    "R = np.array([0.1])\n",
    "\n",
    "# Define output matrix C. \n",
    "## We want all our states as our output\n",
    "C = np.array([[1,0,0],[0,1,0],[0,0,1]])\n",
    "\n",
    "# Define Ptf\n",
    "## You can tune your ptf here or keep it like this.\n",
    "Ptf = np.array([[1,1,0.5],[1,1,1],[1,0.5,1]])\n",
    "\n",
    "# Define your desired state. You may need to do little modification if the desired states depends on other states. \n",
    "# Please see the attached paper for explanation.\n",
    "## This is your reference trajectory. We want the example state to follow zero reference.\n",
    "Z = np.array([[0],[0],[0]])\n",
    "\n",
    "# Define Ztf\n",
    "## You can change it as your requirement or keep it like this.\n",
    "Ztf = np.array([[0],[0],[0]])"
   ]
  },
  {
   "cell_type": "code",
   "execution_count": null,
   "metadata": {},
   "outputs": [],
   "source": []
  },
  {
   "cell_type": "markdown",
   "metadata": {},
   "source": [
    "# Calculating Size of States and Inputs"
   ]
  },
  {
   "cell_type": "code",
   "execution_count": 166,
   "metadata": {},
   "outputs": [],
   "source": [
    "def count_ux(u,X,Z):\n",
    "    \n",
    "    state_variable = []\n",
    "    state_desired = []\n",
    "    control_param_box = []\n",
    "    control_param_box2 = {}\n",
    "    control_u = \"c\"\n",
    "    \n",
    "    state_dict = {}  \n",
    "    desired_dict = {}\n",
    "    state_x = 'x'\n",
    "    state_z = 'z'\n",
    "        \n",
    "    len_u = len(u)\n",
    "    for i in range(len_u):\n",
    "        control_param_box2[control_u+str(i+1)] = []\n",
    "        control_param_box.append(control_u+str(i+1))   \n",
    "          \n",
    "    len_X = len(X)\n",
    "    for j in range(len_X):\n",
    "        state_dict[state_x+str(j+1)] = []\n",
    "        state_variable.append(state_x+str(j+1)) \n",
    "        \n",
    "    len_Z = len(Z)\n",
    "    for j in range(len_Z):\n",
    "        desired_dict[state_z+str(j+1)] = []\n",
    "        state_desired.append(state_z+str(j+1)) \n",
    "        \n",
    "    return control_param_box, control_param_box2, state_dict, state_variable, state_desired, desired_dict"
   ]
  },
  {
   "cell_type": "code",
   "execution_count": 167,
   "metadata": {},
   "outputs": [
    {
     "name": "stdout",
     "output_type": "stream",
     "text": [
      "control_param_box ['c1']\n",
      "control_param_box2 {'c1': []}\n",
      "state_dict {'x1': [], 'x2': [], 'x3': []}\n",
      "state_variable ['x1', 'x2', 'x3']\n",
      "state_desired ['z1', 'z2', 'z3']\n",
      "desired_dict {'z1': [], 'z2': [], 'z3': []}\n"
     ]
    }
   ],
   "source": [
    "control_param_box, control_param_box2, state_dict,state_variable, state_desired, desired_dict = count_ux(u,X,Z)\n",
    "print(\"control_param_box\", control_param_box)\n",
    "print(\"control_param_box2\", control_param_box2)\n",
    "print(\"state_dict\",state_dict)\n",
    "print(\"state_variable\",state_variable)\n",
    "print(\"state_desired\",state_desired)\n",
    "print(\"desired_dict\",desired_dict)"
   ]
  },
  {
   "cell_type": "markdown",
   "metadata": {},
   "source": [
    "# SS-RE and ALE Calculation\n",
    "\n",
    "This section calculates the Steady-State Riccati Equation (SS-RE), and Algebraic Lyapunov Equation. SS-RE and ALE are required to solve Differential Lyapunov Equation (DLE), which has been solved in the next state of the program."
   ]
  },
  {
   "cell_type": "code",
   "execution_count": 168,
   "metadata": {},
   "outputs": [],
   "source": [
    "def regulation(A,B,Q,R,C,Ptf):\n",
    "    X,L,G = ctrl.lqr(A,B,Q,R)\n",
    "    g = np.array([-1])\n",
    "    Pss = np.multiply(X,g)\n",
    "    Pss = L\n",
    "    Ktf = np.linalg.inv(Ptf - Pss)\n",
    "    if len(R)>1:\n",
    "        r = np.linalg.inv(R)\n",
    "        E1 = np.matmul(B,r)\n",
    "        E = np.matmul(E1,np.transpose(B))\n",
    "    else:\n",
    "        r = np.reciprocal(R)\n",
    "        E1 = np.multiply(B,r)\n",
    "        E = np.multiply(E1,np.transpose(B))\n",
    "    \n",
    "    Acl = A - np.matmul(E,Pss)\n",
    "    D = scipy.linalg.solve_lyapunov(Acl, E)\n",
    "    return Pss, Ktf, E, Acl, D"
   ]
  },
  {
   "cell_type": "code",
   "execution_count": 169,
   "metadata": {},
   "outputs": [
    {
     "name": "stdout",
     "output_type": "stream",
     "text": [
      "Pss [[271.18201521 190.57038965  -4.15587605]\n",
      " [190.57038965 201.04541324  -4.33379212]\n",
      " [ -4.15587605  -4.33379212  11.24613341]]\n",
      "Ktf [[-0.0110423   0.01047461  0.00043507]\n",
      " [ 0.01044736 -0.01497279 -0.00304702]\n",
      " [-0.00062779 -0.00179283 -0.09881635]]\n",
      "E [[0.    0.    0.   ]\n",
      " [0.    0.    0.   ]\n",
      " [0.    0.    0.625]]\n",
      "Acl [[-1.01887000e+00  9.05060000e-01 -2.15000000e-03]\n",
      " [ 8.22250000e-01 -1.07741000e+00 -1.75550000e-01]\n",
      " [ 2.59742253e+00  2.70862008e+00 -8.02883338e+00]]\n",
      "D [[-1.25326278e-04 -1.41097198e-04 -4.76505110e-06]\n",
      " [-1.41097198e-04 -2.12345193e-04  6.42356383e-04]\n",
      " [-4.76505110e-06  6.42356383e-04 -3.87070528e-02]]\n"
     ]
    }
   ],
   "source": [
    "Pss, Ktf, E, Acl, D = regulation(A,B,Q,R,C,Ptf)\n",
    "print(\"Pss\",Pss)\n",
    "print(\"Ktf\",Ktf)\n",
    "print(\"E\",E)\n",
    "print(\"Acl\",Acl)\n",
    "print(\"D\",D)"
   ]
  },
  {
   "cell_type": "markdown",
   "metadata": {},
   "source": [
    "# Solve Differential Lyapunov Equation (DLE)\n",
    "\n",
    "Please follow the attached published paper to know details about DLE"
   ]
  },
  {
   "cell_type": "code",
   "execution_count": 170,
   "metadata": {},
   "outputs": [],
   "source": [
    "def solve_dle(Acl, Ktf, t, tf, D):\n",
    "    kk1 = np.exp(np.multiply(Acl,(t-tf)))\n",
    "    kk2 = np.matmul(kk1,(Ktf-D))\n",
    "    kk3 = np.exp(np.multiply(np.transpose(Acl),(t-tf)))\n",
    "    KK = np.matmul(kk2,kk3) + D\n",
    "    return KK"
   ]
  },
  {
   "cell_type": "code",
   "execution_count": 171,
   "metadata": {},
   "outputs": [
    {
     "name": "stdout",
     "output_type": "stream",
     "text": [
      "KK [[-7.72493976e+06  1.34888677e+07  8.60358460e+35]\n",
      " [ 1.34540156e+07 -3.36810508e+07 -1.30533367e+37]\n",
      " [-1.22966760e+36 -8.62464820e+36 -3.28474978e+68]]\n"
     ]
    }
   ],
   "source": [
    "KK = solve_dle(Acl, Ktf, t, tf, D)\n",
    "print(\"KK\",KK)"
   ]
  },
  {
   "cell_type": "code",
   "execution_count": null,
   "metadata": {},
   "outputs": [],
   "source": []
  },
  {
   "cell_type": "markdown",
   "metadata": {},
   "source": [
    "# Solve Differential Riccati Equation (DRE)\n",
    "\n",
    "So, to solve DRE, we needed to solve DLE. And to solve DLE, we needed to solve SS-RE, and ALE. In the final equation, we just need to put the value of SS-RE, and ALE."
   ]
  },
  {
   "cell_type": "code",
   "execution_count": 172,
   "metadata": {},
   "outputs": [],
   "source": [
    "def solve_riccati_coefficient(Pss, KK):\n",
    "    Pxt = np.linalg.inv(KK) + Pss\n",
    "    return Pxt"
   ]
  },
  {
   "cell_type": "code",
   "execution_count": 173,
   "metadata": {},
   "outputs": [
    {
     "name": "stdout",
     "output_type": "stream",
     "text": [
      "Pxt [[271.18201477 190.57038947  -4.15587605]\n",
      " [190.57038947 201.04541314  -4.33379212]\n",
      " [ -4.15587605  -4.33379212  11.24613341]]\n"
     ]
    }
   ],
   "source": [
    "Pxt = solve_riccati_coefficient(Pss, KK)\n",
    "print(\"Pxt\",Pxt)"
   ]
  },
  {
   "cell_type": "markdown",
   "metadata": {},
   "source": [
    "# Solve VAE and VDE\n",
    "\n",
    "Upto now, we have solved DRE. To find the solution of SDRE, we also need to solve Vector Differential Equation (VDE) simultaneously with DRE at each iteration. More details about the solution procedures of VDE can be found in the attached paper."
   ]
  },
  {
   "cell_type": "code",
   "execution_count": 174,
   "metadata": {},
   "outputs": [],
   "source": [
    "def solve_vector_coefficient(A, Pxt, C, Z, Q, Ztf):\n",
    "    #s = -inv(A - B*(inv(R))*B'*Pe)'*C'*Q*z\n",
    "    #gss1 = np.matmul(E, Pxt) \n",
    "    gss3 = -scipy.linalg.inv(np.transpose(A-np.matmul(E, Pxt)))\n",
    "    #gss2 = scipy.linalg.inv(np.transpose(A-gss1))\n",
    "    gss4 = np.matmul(gss3,np.transpose(C))\n",
    "    gss5 = np.matmul(gss4, Q)\n",
    "    gss = np.matmul(gss5, Z)\n",
    "    AA = A - np.matmul(E,Pxt)\n",
    "    BB = E\n",
    "    kg1 = np.exp(np.multiply(np.transpose(A-AA),(t-tf)))\n",
    "    gtf = np.matmul((np.matmul(np.transpose(C),Ptf)),Ztf)\n",
    "    Kg = np.matmul(kg1, gtf-gss)\n",
    "    nn = gtf-gss\n",
    "    return Kg, AA, BB, gss"
   ]
  },
  {
   "cell_type": "code",
   "execution_count": 175,
   "metadata": {},
   "outputs": [
    {
     "name": "stdout",
     "output_type": "stream",
     "text": [
      "Kg [[0.]\n",
      " [0.]\n",
      " [0.]]\n",
      "AA [[-1.01887000e+00  9.05060000e-01 -2.15000000e-03]\n",
      " [ 8.22250000e-01 -1.07741000e+00 -1.75550000e-01]\n",
      " [ 2.59742253e+00  2.70862008e+00 -8.02883338e+00]]\n",
      "BB [[0.    0.    0.   ]\n",
      " [0.    0.    0.   ]\n",
      " [0.    0.    0.625]]\n",
      "gss [[0.]\n",
      " [0.]\n",
      " [0.]]\n"
     ]
    }
   ],
   "source": [
    "Kg, AA, BB,gss = solve_vector_coefficient(A, Pxt, C, Z, Q, Ztf)\n",
    "print(\"Kg\",Kg)\n",
    "print(\"AA\",AA)\n",
    "print(\"BB\",BB)\n",
    "print(\"gss\",gss)"
   ]
  },
  {
   "cell_type": "markdown",
   "metadata": {},
   "source": [
    "# Solve States"
   ]
  },
  {
   "cell_type": "code",
   "execution_count": 176,
   "metadata": {},
   "outputs": [],
   "source": [
    "def evaluate_xdot(Kg, gss, AA, X):\n",
    "    gxt = gss\n",
    "    xdot = np.matmul(AA,X) + np.matmul(BB,gxt)\n",
    "    return xdot, gxt"
   ]
  },
  {
   "cell_type": "code",
   "execution_count": 177,
   "metadata": {},
   "outputs": [
    {
     "name": "stdout",
     "output_type": "stream",
     "text": [
      "xdot [[-27.02303   ]\n",
      " [ 28.44668   ]\n",
      " [100.09527756]]\n",
      "gxt [[0.]\n",
      " [0.]\n",
      " [0.]]\n"
     ]
    }
   ],
   "source": [
    "xdot, gxt = evaluate_xdot(Kg, gss, AA, X)\n",
    "print(\"xdot\",xdot)\n",
    "print(\"gxt\",gxt)"
   ]
  },
  {
   "cell_type": "markdown",
   "metadata": {},
   "source": [
    "# Solve Control Input"
   ]
  },
  {
   "cell_type": "code",
   "execution_count": 178,
   "metadata": {},
   "outputs": [],
   "source": [
    "def control(R,B,Pxt,X,gxt):\n",
    "    if len(R)>1:\n",
    "        r = np.linalg.inv(R)\n",
    "        b = np.transpose(B)\n",
    "        zz = np.matmul(Pxt, X)-gxt\n",
    "        u = -np.matmul((np.matmul(r,b)),zz)\n",
    "    else:\n",
    "        r = np.reciprocal(R)\n",
    "        b = np.transpose(B)\n",
    "        zz = np.matmul(Pxt, X)-gxt\n",
    "        u = -np.matmul((np.multiply(r,b)),zz)    \n",
    "    return u"
   ]
  },
  {
   "cell_type": "code",
   "execution_count": 179,
   "metadata": {},
   "outputs": [
    {
     "name": "stdout",
     "output_type": "stream",
     "text": [
      "u [[352.38111022]]\n"
     ]
    }
   ],
   "source": [
    "u = control(R,B,Pxt,X,gxt)\n",
    "print(\"u\",u)"
   ]
  },
  {
   "cell_type": "markdown",
   "metadata": {},
   "source": [
    "# Main Function"
   ]
  },
  {
   "cell_type": "code",
   "execution_count": 180,
   "metadata": {},
   "outputs": [],
   "source": [
    "def main(A,B,Q,R,C,Ptf,Z,Ztf,X,control_param_box, control_param_box2, state_dict, state_variable, state_desired, desired_dict):\n",
    "    import time\n",
    "    start_time = time.time()    \n",
    "    time_variable = [\"t1\"]   \n",
    "    #############\n",
    "    t = 0\n",
    "    tf = 20\n",
    "    delta = 0.001\n",
    "    #############    \n",
    "    time_step = []\n",
    "    #delta = 0.01\n",
    "    while t <= tf:        \n",
    "        m = 0\n",
    "        k = 0\n",
    "        l = 0\n",
    "        Pss, Ktf, E, Acl, D = regulation(A,B,Q,R,C,Ptf)\n",
    "        KK = solve_dle(Acl, Ktf, t, tf, D)\n",
    "        Pxt = solve_riccati_coefficient(Pss, KK)\n",
    "        Kg, AA, BB, gss = solve_vector_coefficient(A, Pxt, C, Z, Q, Ztf)\n",
    "        xdot, gxt = evaluate_xdot(Kg, gss, AA, X)\n",
    "        u = control(R,B,Pxt,X,gxt)\n",
    "        X = X + np.multiply(delta, xdot)\n",
    "        \n",
    "        time_step.append(t)\n",
    "        for item in control_param_box:\n",
    "            control_param_box2[item].append(u[m])\n",
    "            m = m+1        \n",
    "        for item2 in state_variable:\n",
    "            state_dict[item2].append(X[k])\n",
    "            k = k + 1 \n",
    "        for item3 in state_desired:\n",
    "            desired_dict[item3].append(Z[l])\n",
    "            l = l + 1 \n",
    "        t = t + delta            \n",
    "    #print(time_step)   \n",
    "    time_dict = {'t1':time_step}\n",
    "    print(\"--- %s seconds ---\" % (time.time() - start_time))\n",
    "    return state_dict, control_param_box2, state_variable,control_param_box, time_dict, state_desired, desired_dict\n",
    "    \n",
    "    "
   ]
  },
  {
   "cell_type": "code",
   "execution_count": 181,
   "metadata": {},
   "outputs": [
    {
     "name": "stdout",
     "output_type": "stream",
     "text": [
      "--- 6.763983488082886 seconds ---\n",
      "\n",
      "\n"
     ]
    },
    {
     "name": "stderr",
     "output_type": "stream",
     "text": [
      "C:\\Users\\User\\AppData\\Local\\conda\\conda\\envs\\UserEnv\\lib\\site-packages\\ipykernel_launcher.py:11: RuntimeWarning: overflow encountered in exp\n",
      "  # This is added back by InteractiveShellApp.init_path()\n",
      "C:\\Users\\User\\AppData\\Local\\conda\\conda\\envs\\UserEnv\\lib\\site-packages\\ipykernel_launcher.py:13: RuntimeWarning: invalid value encountered in matmul\n",
      "  del sys.path[0]\n"
     ]
    }
   ],
   "source": [
    "state_dict, control_param_box2, state_variable,control_param_box, time_dict, state_desired, desired_dict = main(A,B,Q,R,C,Ptf,Z,Ztf,X,control_param_box, control_param_box2, state_dict, state_variable, state_desired, desired_dict)\n",
    "#print(state_dict)\n",
    "print(\"\\n\")\n",
    "#print(control_param_box2)"
   ]
  },
  {
   "cell_type": "markdown",
   "metadata": {},
   "source": [
    "# Plot States"
   ]
  },
  {
   "cell_type": "code",
   "execution_count": null,
   "metadata": {},
   "outputs": [],
   "source": []
  },
  {
   "cell_type": "code",
   "execution_count": 222,
   "metadata": {},
   "outputs": [],
   "source": [
    "def state_plot_function(state_dict, control_param_box2, state_variable,control_param_box, time_dict, state_desired, desired_dict):\n",
    "    ccc = time_dict['t1']\n",
    "    len_sv = len(state_variable)\n",
    "    len_sd = len(state_desired)\n",
    "    for i in range(len_sv):\n",
    "        plt.figure(i+1, figsize = (13,9))\n",
    "        plt.plot(ccc, state_dict[state_variable[i]], 'b', ccc, desired_dict[state_desired[i]], 'r--', linewidth=3)    \n",
    "        plt.xlabel('Time [sec]', fontsize = 16)\n",
    "        plt.ylabel('State '+str(i+1), fontsize = 16)\n",
    "        plt.title('Time vs State '+str(i+1), fontsize = 20)\n",
    "        plt.legend(['Actual State', 'Desired State'], fontsize = 12)"
   ]
  },
  {
   "cell_type": "code",
   "execution_count": null,
   "metadata": {},
   "outputs": [],
   "source": []
  },
  {
   "cell_type": "code",
   "execution_count": 223,
   "metadata": {},
   "outputs": [
    {
     "data": {
      "image/png": "[encoded data removed]",
      "text/plain": [
       "<Figure size 936x648 with 1 Axes>"
      ]
     },
     "metadata": {
      "needs_background": "light"
     },
     "output_type": "display_data"
    },
    {
     "data": {
      "image/png": "[encoded data removed]",
      "text/plain": [
       "<Figure size 936x648 with 1 Axes>"
      ]
     },
     "metadata": {
      "needs_background": "light"
     },
     "output_type": "display_data"
    },
    {
     "data": {
      "image/png": "[encoded data removed]",
      "text/plain": [
       "<Figure size 936x648 with 1 Axes>"
      ]
     },
     "metadata": {
      "needs_background": "light"
     },
     "output_type": "display_data"
    }
   ],
   "source": [
    "state_plot_function(state_dict, control_param_box2, state_variable,control_param_box, time_dict, state_desired, desired_dict)"
   ]
  },
  {
   "cell_type": "markdown",
   "metadata": {},
   "source": [
    "# Plot Control Inputs"
   ]
  },
  {
   "cell_type": "code",
   "execution_count": 238,
   "metadata": {},
   "outputs": [],
   "source": [
    "def control_plot_function(state_dict, control_param_box2, state_variable,control_param_box, time_dict):\n",
    "    ccc = time_dict['t1']\n",
    "    len_cp = len(control_param_box)\n",
    "    for j in range(len_cp):        \n",
    "        \n",
    "        plt.figure(j+1, figsize = (13,9))\n",
    "        plt.plot(ccc, control_param_box2[control_param_box[j]], linewidth = 3)\n",
    "        plt.xlabel('Time [sec]', fontsize = 16)\n",
    "        plt.ylabel('Control Signal ', fontsize = 16)\n",
    "        plt.title('Time vs Control Signal '+ str(j+1), fontsize = 20)\n",
    "        plt.legend(['Control Signal '+str(j+1)], fontsize = 12)"
   ]
  },
  {
   "cell_type": "code",
   "execution_count": 239,
   "metadata": {},
   "outputs": [
    {
     "data": {
      "image/png": "[encoded data removed]",
      "text/plain": [
       "<Figure size 936x648 with 1 Axes>"
      ]
     },
     "metadata": {
      "needs_background": "light"
     },
     "output_type": "display_data"
    }
   ],
   "source": [
    "control_plot_function(state_dict, control_param_box2, state_variable,control_param_box, time_dict)"
   ]
  },
  {
   "cell_type": "code",
   "execution_count": null,
   "metadata": {},
   "outputs": [],
   "source": []
  },
  {
   "cell_type": "code",
   "execution_count": null,
   "metadata": {},
   "outputs": [],
   "source": []
  }
 ],
 "metadata": {
  "kernelspec": {
   "display_name": "Python 3",
   "language": "python",
   "name": "python3"
  },
  "language_info": {
   "codemirror_mode": {
    "name": "ipython",
    "version": 3
   },
   "file_extension": ".py",
   "mimetype": "text/x-python",
   "name": "python",
   "nbconvert_exporter": "python",
   "pygments_lexer": "ipython3",
   "version": "3.7.4"
  }
 },
 "nbformat": 4,
 "nbformat_minor": 2
}
